{
 "cells": [
  {
   "cell_type": "code",
   "execution_count": 1,
   "id": "97a4d137",
   "metadata": {
    "_cell_guid": "b1076dfc-b9ad-4769-8c92-a6c4dae69d19",
    "_uuid": "8f2839f25d086af736a60e9eeb907d3b93b6e0e5",
    "execution": {
     "iopub.execute_input": "2024-07-30T16:48:31.475241Z",
     "iopub.status.busy": "2024-07-30T16:48:31.474840Z",
     "iopub.status.idle": "2024-07-30T16:48:35.773717Z",
     "shell.execute_reply": "2024-07-30T16:48:35.772893Z"
    },
    "papermill": {
     "duration": 4.308624,
     "end_time": "2024-07-30T16:48:35.775865",
     "exception": false,
     "start_time": "2024-07-30T16:48:31.467241",
     "status": "completed"
    },
    "tags": []
   },
   "outputs": [],
   "source": [
    "# Import Packages\n",
    "from catboost import CatBoostClassifier, Pool\n",
    "import numpy as np\n",
    "import pandas as pd\n",
    "from sklearn.metrics import roc_auc_score\n",
    "from sklearn.model_selection import StratifiedKFold\n",
    "from sklearn.preprocessing import MinMaxScaler"
   ]
  },
  {
   "cell_type": "code",
   "execution_count": 2,
   "id": "afbcada3",
   "metadata": {
    "execution": {
     "iopub.execute_input": "2024-07-30T16:48:35.785143Z",
     "iopub.status.busy": "2024-07-30T16:48:35.784650Z",
     "iopub.status.idle": "2024-07-30T16:48:35.788907Z",
     "shell.execute_reply": "2024-07-30T16:48:35.788067Z"
    },
    "papermill": {
     "duration": 0.010844,
     "end_time": "2024-07-30T16:48:35.790786",
     "exception": false,
     "start_time": "2024-07-30T16:48:35.779942",
     "status": "completed"
    },
    "tags": []
   },
   "outputs": [],
   "source": [
    "import warnings\n",
    "warnings.simplefilter('ignore')"
   ]
  },
  {
   "cell_type": "code",
   "execution_count": 3,
   "id": "dbea0974",
   "metadata": {
    "execution": {
     "iopub.execute_input": "2024-07-30T16:48:35.799141Z",
     "iopub.status.busy": "2024-07-30T16:48:35.798850Z",
     "iopub.status.idle": "2024-07-30T16:49:11.504925Z",
     "shell.execute_reply": "2024-07-30T16:49:11.504016Z"
    },
    "papermill": {
     "duration": 35.716502,
     "end_time": "2024-07-30T16:49:11.510923",
     "exception": false,
     "start_time": "2024-07-30T16:48:35.794421",
     "status": "completed"
    },
    "tags": []
   },
   "outputs": [
    {
     "data": {
      "text/plain": [
       "(   id  Gender  Age  Driving_License  Region_Code  Previously_Insured  \\\n",
       " 0   0    Male   21                1         35.0                   0   \n",
       " 1   1    Male   43                1         28.0                   0   \n",
       " 2   2  Female   25                1         14.0                   1   \n",
       " 3   3  Female   35                1          1.0                   0   \n",
       " 4   4  Female   36                1         15.0                   1   \n",
       " \n",
       "   Vehicle_Age Vehicle_Damage  Annual_Premium  Policy_Sales_Channel  Vintage  \\\n",
       " 0    1-2 Year            Yes         65101.0                 124.0      187   \n",
       " 1   > 2 Years            Yes         58911.0                  26.0      288   \n",
       " 2    < 1 Year             No         38043.0                 152.0      254   \n",
       " 3    1-2 Year            Yes          2630.0                 156.0       76   \n",
       " 4    1-2 Year             No         31951.0                 152.0      294   \n",
       " \n",
       "    Response  \n",
       " 0         0  \n",
       " 1         1  \n",
       " 2         0  \n",
       " 3         0  \n",
       " 4         0  ,\n",
       "          id  Gender  Age  Driving_License  Region_Code  Previously_Insured  \\\n",
       " 0  11504798  Female   20                1         47.0                   0   \n",
       " 1  11504799    Male   47                1         28.0                   0   \n",
       " 2  11504800    Male   47                1         43.0                   0   \n",
       " 3  11504801  Female   22                1         47.0                   1   \n",
       " 4  11504802    Male   51                1         19.0                   0   \n",
       " \n",
       "   Vehicle_Age Vehicle_Damage  Annual_Premium  Policy_Sales_Channel  Vintage  \\\n",
       " 0    < 1 Year             No          2630.0                 160.0      228   \n",
       " 1    1-2 Year            Yes         37483.0                 124.0      123   \n",
       " 2    1-2 Year            Yes          2630.0                  26.0      271   \n",
       " 3    < 1 Year             No         24502.0                 152.0      115   \n",
       " 4    1-2 Year             No         34115.0                 124.0      148   \n",
       " \n",
       "    Response  \n",
       " 0         0  \n",
       " 1         0  \n",
       " 2         0  \n",
       " 3         0  \n",
       " 4         0  )"
      ]
     },
     "execution_count": 3,
     "metadata": {},
     "output_type": "execute_result"
    }
   ],
   "source": [
    "# Load Data\n",
    "train = pd.read_csv('/kaggle/input/playground-series-s4e7/train.csv')\n",
    "test = pd.read_csv('/kaggle/input/playground-series-s4e7/test.csv')\n",
    "\n",
    "# Add 'Response' Column to Test Data\n",
    "test['Response'] = 0\n",
    "\n",
    "train.head(), test.head()"
   ]
  },
  {
   "cell_type": "code",
   "execution_count": 4,
   "id": "7e36c9fc",
   "metadata": {
    "execution": {
     "iopub.execute_input": "2024-07-30T16:49:11.520158Z",
     "iopub.status.busy": "2024-07-30T16:49:11.519854Z",
     "iopub.status.idle": "2024-07-30T16:49:11.529562Z",
     "shell.execute_reply": "2024-07-30T16:49:11.528735Z"
    },
    "papermill": {
     "duration": 0.016331,
     "end_time": "2024-07-30T16:49:11.531375",
     "exception": false,
     "start_time": "2024-07-30T16:49:11.515044",
     "status": "completed"
    },
    "tags": []
   },
   "outputs": [],
   "source": [
    "# Prepare Data\n",
    "def prepare_data(df):\n",
    "    copied_df = df.copy()\n",
    "\n",
    "    copied_df['Gender'] = copied_df['Gender'].replace({'Male': 0, 'Female': 1}).astype(int)\n",
    "    copied_df['Region_Code'] = copied_df['Region_Code'].astype(int)\n",
    "    copied_df['Vehicle_Age'] = copied_df['Vehicle_Age'].replace({'< 1 Year': 0, '1-2 Year': 1, '> 2 Years': 2}).astype(int)\n",
    "    copied_df['Vehicle_Damage'] = copied_df['Vehicle_Damage'].replace({'No': 0, 'Yes': 1}).astype(int)\n",
    "    copied_df['Policy_Sales_Channel'] = copied_df['Policy_Sales_Channel'].astype(int)\n",
    "    copied_df['Annual_Premium'] = copied_df['Annual_Premium'].astype(int)\n",
    "    \n",
    "    # Derived Variables (2024-07-30)\n",
    "    copied_df['Previously_Insured_Annual_Premium'] = pd.factorize((copied_df['Previously_Insured'].astype(str) + copied_df['Annual_Premium'].astype(str)).to_numpy())[0]\n",
    "    copied_df['Previously_Insured_Vehicle_Age'] = pd.factorize((copied_df['Previously_Insured'].astype(str) + copied_df['Vehicle_Age'].astype(str)).to_numpy())[0]\n",
    "    copied_df['Previously_Insured_Vehicle_Damage'] = pd.factorize((copied_df['Previously_Insured'].astype(str) + copied_df['Vehicle_Damage'].astype(str)).to_numpy())[0]\n",
    "    copied_df['Previously_Insured_Vintage'] = pd.factorize((copied_df['Previously_Insured'].astype(str) + copied_df['Vintage'].astype(str)).to_numpy())[0]\n",
    "\n",
    "    return copied_df"
   ]
  },
  {
   "cell_type": "code",
   "execution_count": 5,
   "id": "9a7fc8d0",
   "metadata": {
    "execution": {
     "iopub.execute_input": "2024-07-30T16:49:11.540131Z",
     "iopub.status.busy": "2024-07-30T16:49:11.539849Z",
     "iopub.status.idle": "2024-07-30T16:51:19.050960Z",
     "shell.execute_reply": "2024-07-30T16:51:19.049990Z"
    },
    "papermill": {
     "duration": 127.521862,
     "end_time": "2024-07-30T16:51:19.057035",
     "exception": false,
     "start_time": "2024-07-30T16:49:11.535173",
     "status": "completed"
    },
    "tags": []
   },
   "outputs": [
    {
     "data": {
      "text/html": [
       "<div>\n",
       "<style scoped>\n",
       "    .dataframe tbody tr th:only-of-type {\n",
       "        vertical-align: middle;\n",
       "    }\n",
       "\n",
       "    .dataframe tbody tr th {\n",
       "        vertical-align: top;\n",
       "    }\n",
       "\n",
       "    .dataframe thead th {\n",
       "        text-align: right;\n",
       "    }\n",
       "</style>\n",
       "<table border=\"1\" class=\"dataframe\">\n",
       "  <thead>\n",
       "    <tr style=\"text-align: right;\">\n",
       "      <th></th>\n",
       "      <th>id</th>\n",
       "      <th>Gender</th>\n",
       "      <th>Age</th>\n",
       "      <th>Driving_License</th>\n",
       "      <th>Region_Code</th>\n",
       "      <th>Previously_Insured</th>\n",
       "      <th>Vehicle_Age</th>\n",
       "      <th>Vehicle_Damage</th>\n",
       "      <th>Annual_Premium</th>\n",
       "      <th>Policy_Sales_Channel</th>\n",
       "      <th>Vintage</th>\n",
       "      <th>Response</th>\n",
       "      <th>Previously_Insured_Annual_Premium</th>\n",
       "      <th>Previously_Insured_Vehicle_Age</th>\n",
       "      <th>Previously_Insured_Vehicle_Damage</th>\n",
       "      <th>Previously_Insured_Vintage</th>\n",
       "    </tr>\n",
       "  </thead>\n",
       "  <tbody>\n",
       "    <tr>\n",
       "      <th>0</th>\n",
       "      <td>0</td>\n",
       "      <td>0</td>\n",
       "      <td>21</td>\n",
       "      <td>1</td>\n",
       "      <td>35</td>\n",
       "      <td>0</td>\n",
       "      <td>1</td>\n",
       "      <td>1</td>\n",
       "      <td>65101</td>\n",
       "      <td>124</td>\n",
       "      <td>187</td>\n",
       "      <td>0</td>\n",
       "      <td>0</td>\n",
       "      <td>0</td>\n",
       "      <td>0</td>\n",
       "      <td>0</td>\n",
       "    </tr>\n",
       "    <tr>\n",
       "      <th>1</th>\n",
       "      <td>1</td>\n",
       "      <td>0</td>\n",
       "      <td>43</td>\n",
       "      <td>1</td>\n",
       "      <td>28</td>\n",
       "      <td>0</td>\n",
       "      <td>2</td>\n",
       "      <td>1</td>\n",
       "      <td>58911</td>\n",
       "      <td>26</td>\n",
       "      <td>288</td>\n",
       "      <td>1</td>\n",
       "      <td>1</td>\n",
       "      <td>1</td>\n",
       "      <td>0</td>\n",
       "      <td>1</td>\n",
       "    </tr>\n",
       "    <tr>\n",
       "      <th>2</th>\n",
       "      <td>2</td>\n",
       "      <td>1</td>\n",
       "      <td>25</td>\n",
       "      <td>1</td>\n",
       "      <td>14</td>\n",
       "      <td>1</td>\n",
       "      <td>0</td>\n",
       "      <td>0</td>\n",
       "      <td>38043</td>\n",
       "      <td>152</td>\n",
       "      <td>254</td>\n",
       "      <td>0</td>\n",
       "      <td>2</td>\n",
       "      <td>2</td>\n",
       "      <td>1</td>\n",
       "      <td>2</td>\n",
       "    </tr>\n",
       "    <tr>\n",
       "      <th>3</th>\n",
       "      <td>3</td>\n",
       "      <td>1</td>\n",
       "      <td>35</td>\n",
       "      <td>1</td>\n",
       "      <td>1</td>\n",
       "      <td>0</td>\n",
       "      <td>1</td>\n",
       "      <td>1</td>\n",
       "      <td>2630</td>\n",
       "      <td>156</td>\n",
       "      <td>76</td>\n",
       "      <td>0</td>\n",
       "      <td>3</td>\n",
       "      <td>0</td>\n",
       "      <td>0</td>\n",
       "      <td>3</td>\n",
       "    </tr>\n",
       "    <tr>\n",
       "      <th>4</th>\n",
       "      <td>4</td>\n",
       "      <td>1</td>\n",
       "      <td>36</td>\n",
       "      <td>1</td>\n",
       "      <td>15</td>\n",
       "      <td>1</td>\n",
       "      <td>1</td>\n",
       "      <td>0</td>\n",
       "      <td>31951</td>\n",
       "      <td>152</td>\n",
       "      <td>294</td>\n",
       "      <td>0</td>\n",
       "      <td>4</td>\n",
       "      <td>3</td>\n",
       "      <td>1</td>\n",
       "      <td>4</td>\n",
       "    </tr>\n",
       "    <tr>\n",
       "      <th>...</th>\n",
       "      <td>...</td>\n",
       "      <td>...</td>\n",
       "      <td>...</td>\n",
       "      <td>...</td>\n",
       "      <td>...</td>\n",
       "      <td>...</td>\n",
       "      <td>...</td>\n",
       "      <td>...</td>\n",
       "      <td>...</td>\n",
       "      <td>...</td>\n",
       "      <td>...</td>\n",
       "      <td>...</td>\n",
       "      <td>...</td>\n",
       "      <td>...</td>\n",
       "      <td>...</td>\n",
       "      <td>...</td>\n",
       "    </tr>\n",
       "    <tr>\n",
       "      <th>11504793</th>\n",
       "      <td>11504793</td>\n",
       "      <td>0</td>\n",
       "      <td>48</td>\n",
       "      <td>1</td>\n",
       "      <td>6</td>\n",
       "      <td>0</td>\n",
       "      <td>1</td>\n",
       "      <td>1</td>\n",
       "      <td>27412</td>\n",
       "      <td>26</td>\n",
       "      <td>218</td>\n",
       "      <td>0</td>\n",
       "      <td>5210</td>\n",
       "      <td>0</td>\n",
       "      <td>0</td>\n",
       "      <td>144</td>\n",
       "    </tr>\n",
       "    <tr>\n",
       "      <th>11504794</th>\n",
       "      <td>11504794</td>\n",
       "      <td>1</td>\n",
       "      <td>26</td>\n",
       "      <td>1</td>\n",
       "      <td>36</td>\n",
       "      <td>0</td>\n",
       "      <td>0</td>\n",
       "      <td>1</td>\n",
       "      <td>29509</td>\n",
       "      <td>152</td>\n",
       "      <td>115</td>\n",
       "      <td>1</td>\n",
       "      <td>23274</td>\n",
       "      <td>4</td>\n",
       "      <td>0</td>\n",
       "      <td>176</td>\n",
       "    </tr>\n",
       "    <tr>\n",
       "      <th>11504795</th>\n",
       "      <td>11504795</td>\n",
       "      <td>1</td>\n",
       "      <td>29</td>\n",
       "      <td>1</td>\n",
       "      <td>32</td>\n",
       "      <td>1</td>\n",
       "      <td>0</td>\n",
       "      <td>0</td>\n",
       "      <td>2630</td>\n",
       "      <td>152</td>\n",
       "      <td>189</td>\n",
       "      <td>0</td>\n",
       "      <td>18</td>\n",
       "      <td>2</td>\n",
       "      <td>1</td>\n",
       "      <td>456</td>\n",
       "    </tr>\n",
       "    <tr>\n",
       "      <th>11504796</th>\n",
       "      <td>11504796</td>\n",
       "      <td>1</td>\n",
       "      <td>51</td>\n",
       "      <td>1</td>\n",
       "      <td>28</td>\n",
       "      <td>0</td>\n",
       "      <td>1</td>\n",
       "      <td>1</td>\n",
       "      <td>48443</td>\n",
       "      <td>26</td>\n",
       "      <td>274</td>\n",
       "      <td>1</td>\n",
       "      <td>14121</td>\n",
       "      <td>0</td>\n",
       "      <td>0</td>\n",
       "      <td>124</td>\n",
       "    </tr>\n",
       "    <tr>\n",
       "      <th>11504797</th>\n",
       "      <td>11504797</td>\n",
       "      <td>0</td>\n",
       "      <td>25</td>\n",
       "      <td>1</td>\n",
       "      <td>28</td>\n",
       "      <td>1</td>\n",
       "      <td>0</td>\n",
       "      <td>0</td>\n",
       "      <td>32855</td>\n",
       "      <td>152</td>\n",
       "      <td>189</td>\n",
       "      <td>0</td>\n",
       "      <td>9978</td>\n",
       "      <td>2</td>\n",
       "      <td>1</td>\n",
       "      <td>456</td>\n",
       "    </tr>\n",
       "  </tbody>\n",
       "</table>\n",
       "<p>11504798 rows × 16 columns</p>\n",
       "</div>"
      ],
      "text/plain": [
       "                id  Gender  Age  Driving_License  Region_Code  \\\n",
       "0                0       0   21                1           35   \n",
       "1                1       0   43                1           28   \n",
       "2                2       1   25                1           14   \n",
       "3                3       1   35                1            1   \n",
       "4                4       1   36                1           15   \n",
       "...            ...     ...  ...              ...          ...   \n",
       "11504793  11504793       0   48                1            6   \n",
       "11504794  11504794       1   26                1           36   \n",
       "11504795  11504795       1   29                1           32   \n",
       "11504796  11504796       1   51                1           28   \n",
       "11504797  11504797       0   25                1           28   \n",
       "\n",
       "          Previously_Insured  Vehicle_Age  Vehicle_Damage  Annual_Premium  \\\n",
       "0                          0            1               1           65101   \n",
       "1                          0            2               1           58911   \n",
       "2                          1            0               0           38043   \n",
       "3                          0            1               1            2630   \n",
       "4                          1            1               0           31951   \n",
       "...                      ...          ...             ...             ...   \n",
       "11504793                   0            1               1           27412   \n",
       "11504794                   0            0               1           29509   \n",
       "11504795                   1            0               0            2630   \n",
       "11504796                   0            1               1           48443   \n",
       "11504797                   1            0               0           32855   \n",
       "\n",
       "          Policy_Sales_Channel  Vintage  Response  \\\n",
       "0                          124      187         0   \n",
       "1                           26      288         1   \n",
       "2                          152      254         0   \n",
       "3                          156       76         0   \n",
       "4                          152      294         0   \n",
       "...                        ...      ...       ...   \n",
       "11504793                    26      218         0   \n",
       "11504794                   152      115         1   \n",
       "11504795                   152      189         0   \n",
       "11504796                    26      274         1   \n",
       "11504797                   152      189         0   \n",
       "\n",
       "          Previously_Insured_Annual_Premium  Previously_Insured_Vehicle_Age  \\\n",
       "0                                         0                               0   \n",
       "1                                         1                               1   \n",
       "2                                         2                               2   \n",
       "3                                         3                               0   \n",
       "4                                         4                               3   \n",
       "...                                     ...                             ...   \n",
       "11504793                               5210                               0   \n",
       "11504794                              23274                               4   \n",
       "11504795                                 18                               2   \n",
       "11504796                              14121                               0   \n",
       "11504797                               9978                               2   \n",
       "\n",
       "          Previously_Insured_Vehicle_Damage  Previously_Insured_Vintage  \n",
       "0                                         0                           0  \n",
       "1                                         0                           1  \n",
       "2                                         1                           2  \n",
       "3                                         0                           3  \n",
       "4                                         1                           4  \n",
       "...                                     ...                         ...  \n",
       "11504793                                  0                         144  \n",
       "11504794                                  0                         176  \n",
       "11504795                                  1                         456  \n",
       "11504796                                  0                         124  \n",
       "11504797                                  1                         456  \n",
       "\n",
       "[11504798 rows x 16 columns]"
      ]
     },
     "execution_count": 5,
     "metadata": {},
     "output_type": "execute_result"
    }
   ],
   "source": [
    "# Prepare Train / Test Data\n",
    "train = prepare_data(train)\n",
    "test = prepare_data(test)\n",
    "\n",
    "train"
   ]
  },
  {
   "cell_type": "code",
   "execution_count": 6,
   "id": "52b661df",
   "metadata": {
    "execution": {
     "iopub.execute_input": "2024-07-30T16:51:19.066843Z",
     "iopub.status.busy": "2024-07-30T16:51:19.066556Z",
     "iopub.status.idle": "2024-07-30T16:51:19.072215Z",
     "shell.execute_reply": "2024-07-30T16:51:19.071353Z"
    },
    "papermill": {
     "duration": 0.012745,
     "end_time": "2024-07-30T16:51:19.074206",
     "exception": false,
     "start_time": "2024-07-30T16:51:19.061461",
     "status": "completed"
    },
    "tags": []
   },
   "outputs": [
    {
     "data": {
      "text/plain": [
       "\"\\n# Normalization (2024-07-30)\\nscaler = MinMaxScaler()\\ntrain[['Age', 'Annual_Premium']] = scaler.fit_transform(train[['Age', 'Annual_Premium']])\\ntest[['Age', 'Annual_Premium']] = scaler.transform(test[['Age', 'Annual_Premium']])\\n\\nprint(train[['Age', 'Annual_Premium']].head())\\n\""
      ]
     },
     "execution_count": 6,
     "metadata": {},
     "output_type": "execute_result"
    }
   ],
   "source": [
    "'''\n",
    "# Normalization (2024-07-30)\n",
    "scaler = MinMaxScaler()\n",
    "train[['Age', 'Annual_Premium']] = scaler.fit_transform(train[['Age', 'Annual_Premium']])\n",
    "test[['Age', 'Annual_Premium']] = scaler.transform(test[['Age', 'Annual_Premium']])\n",
    "\n",
    "print(train[['Age', 'Annual_Premium']].head())\n",
    "'''"
   ]
  },
  {
   "cell_type": "code",
   "execution_count": 7,
   "id": "be9e87bc",
   "metadata": {
    "execution": {
     "iopub.execute_input": "2024-07-30T16:51:19.084035Z",
     "iopub.status.busy": "2024-07-30T16:51:19.083781Z",
     "iopub.status.idle": "2024-07-30T16:51:19.089617Z",
     "shell.execute_reply": "2024-07-30T16:51:19.088399Z"
    },
    "papermill": {
     "duration": 0.0135,
     "end_time": "2024-07-30T16:51:19.092044",
     "exception": false,
     "start_time": "2024-07-30T16:51:19.078544",
     "status": "completed"
    },
    "tags": []
   },
   "outputs": [
    {
     "data": {
      "text/plain": [
       "\"\\n# Ensure categorical variables are treated as strings (2024-07-30)\\ncategorical_features = ['Gender', 'Region_Code', 'Vehicle_Age', 'Vehicle_Damage', 'Policy_Sales_Channel',\\n                        'Previously_Insured_Annual_Premium', 'Previously_Insured_Vehicle_Age',\\n                        'Previously_Insured_Vehicle_Damage', 'Previously_Insured_Vintage']\\n\\nfor feature in categorical_features:\\n    train[feature] = train[feature].astype(str)\\n    test[feature] = test[feature].astype(str)\\n\""
      ]
     },
     "execution_count": 7,
     "metadata": {},
     "output_type": "execute_result"
    }
   ],
   "source": [
    "'''\n",
    "# Ensure categorical variables are treated as strings (2024-07-30)\n",
    "categorical_features = ['Gender', 'Region_Code', 'Vehicle_Age', 'Vehicle_Damage', 'Policy_Sales_Channel',\n",
    "                        'Previously_Insured_Annual_Premium', 'Previously_Insured_Vehicle_Age',\n",
    "                        'Previously_Insured_Vehicle_Damage', 'Previously_Insured_Vintage']\n",
    "\n",
    "for feature in categorical_features:\n",
    "    train[feature] = train[feature].astype(str)\n",
    "    test[feature] = test[feature].astype(str)\n",
    "'''"
   ]
  },
  {
   "cell_type": "code",
   "execution_count": 8,
   "id": "051d2bdc",
   "metadata": {
    "execution": {
     "iopub.execute_input": "2024-07-30T16:51:19.102378Z",
     "iopub.status.busy": "2024-07-30T16:51:19.102116Z",
     "iopub.status.idle": "2024-07-30T16:51:19.106947Z",
     "shell.execute_reply": "2024-07-30T16:51:19.106143Z"
    },
    "papermill": {
     "duration": 0.012192,
     "end_time": "2024-07-30T16:51:19.108873",
     "exception": false,
     "start_time": "2024-07-30T16:51:19.096681",
     "status": "completed"
    },
    "tags": []
   },
   "outputs": [],
   "source": [
    "# HYPER PARAMETERS\n",
    "\n",
    "# KFold\n",
    "n_splits = 5\n",
    "\n",
    "# CatBoost\n",
    "loss_function = 'Logloss'\n",
    "eval_metric = 'AUC'\n",
    "learning_rate = 0.075\n",
    "iterations = 1000\n",
    "depth = 5\n",
    "random_strength = 0\n",
    "l2_leaf_reg = 0.45\n",
    "random_seed = 42\n",
    "verbose = False\n",
    "bagging_temperature = 0.5\n",
    "\n",
    "# Model Fitting\n",
    "early_stopping_rounds = 200\n",
    "\n",
    "# GPU or CPU\n",
    "task_type = 'GPU'"
   ]
  },
  {
   "cell_type": "code",
   "execution_count": 9,
   "id": "caecc18b",
   "metadata": {
    "execution": {
     "iopub.execute_input": "2024-07-30T16:51:19.118972Z",
     "iopub.status.busy": "2024-07-30T16:51:19.118716Z",
     "iopub.status.idle": "2024-07-30T18:59:46.612758Z",
     "shell.execute_reply": "2024-07-30T18:59:46.611709Z"
    },
    "papermill": {
     "duration": 7707.507303,
     "end_time": "2024-07-30T18:59:46.620807",
     "exception": false,
     "start_time": "2024-07-30T16:51:19.113504",
     "status": "completed"
    },
    "tags": []
   },
   "outputs": [
    {
     "name": "stdout",
     "output_type": "stream",
     "text": [
      "Start Training...\n"
     ]
    },
    {
     "name": "stderr",
     "output_type": "stream",
     "text": [
      "Default metric period is 5 because AUC is/are not implemented for GPU\n"
     ]
    },
    {
     "name": "stdout",
     "output_type": "stream",
     "text": [
      "0:\ttest: 0.8669865\tbest: 0.8669865 (0)\ttotal: 1.37s\tremaining: 22m 48s\n",
      "999:\ttest: 0.8944119\tbest: 0.8944119 (999)\ttotal: 22m 52s\tremaining: 0us\n",
      "bestTest = 0.8944119215\n",
      "bestIteration = 999\n",
      "Fold 1 AUC: 0.89441\n",
      "\n"
     ]
    },
    {
     "name": "stderr",
     "output_type": "stream",
     "text": [
      "Default metric period is 5 because AUC is/are not implemented for GPU\n"
     ]
    },
    {
     "name": "stdout",
     "output_type": "stream",
     "text": [
      "0:\ttest: 0.8658625\tbest: 0.8658625 (0)\ttotal: 1.16s\tremaining: 19m 21s\n",
      "999:\ttest: 0.8939996\tbest: 0.8939996 (998)\ttotal: 22m 53s\tremaining: 0us\n",
      "bestTest = 0.8939995766\n",
      "bestIteration = 998\n",
      "Shrink model to first 999 iterations.\n",
      "Fold 2 AUC: 0.89400\n",
      "\n"
     ]
    },
    {
     "name": "stderr",
     "output_type": "stream",
     "text": [
      "Default metric period is 5 because AUC is/are not implemented for GPU\n"
     ]
    },
    {
     "name": "stdout",
     "output_type": "stream",
     "text": [
      "0:\ttest: 0.8664176\tbest: 0.8664176 (0)\ttotal: 1.16s\tremaining: 19m 19s\n",
      "999:\ttest: 0.8943298\tbest: 0.8943298 (999)\ttotal: 22m 40s\tremaining: 0us\n",
      "bestTest = 0.8943297863\n",
      "bestIteration = 999\n",
      "Fold 3 AUC: 0.89433\n",
      "\n"
     ]
    },
    {
     "name": "stderr",
     "output_type": "stream",
     "text": [
      "Default metric period is 5 because AUC is/are not implemented for GPU\n"
     ]
    },
    {
     "name": "stdout",
     "output_type": "stream",
     "text": [
      "0:\ttest: 0.8655235\tbest: 0.8655235 (0)\ttotal: 1.28s\tremaining: 21m 18s\n",
      "999:\ttest: 0.8941033\tbest: 0.8941033 (999)\ttotal: 22m 50s\tremaining: 0us\n",
      "bestTest = 0.8941033483\n",
      "bestIteration = 999\n",
      "Fold 4 AUC: 0.89410\n",
      "\n"
     ]
    },
    {
     "name": "stderr",
     "output_type": "stream",
     "text": [
      "Default metric period is 5 because AUC is/are not implemented for GPU\n"
     ]
    },
    {
     "name": "stdout",
     "output_type": "stream",
     "text": [
      "0:\ttest: 0.8674299\tbest: 0.8674299 (0)\ttotal: 1.16s\tremaining: 19m 15s\n",
      "999:\ttest: 0.8947929\tbest: 0.8947929 (999)\ttotal: 22m 43s\tremaining: 0us\n",
      "bestTest = 0.8947929144\n",
      "bestIteration = 999\n",
      "Fold 5 AUC: 0.89479\n",
      "\n"
     ]
    }
   ],
   "source": [
    "# Train Model\n",
    "preds = []\n",
    "\n",
    "skf = StratifiedKFold(n_splits=n_splits, shuffle=True, random_state=42)\n",
    "\n",
    "print(\"Start Training...\")\n",
    "\n",
    "for fold, (train_idx, valid_idx) in enumerate(skf.split(train, train['Response'])):\n",
    "    X_train = train.loc[train_idx, [c for c in train.columns if c not in ['id', 'Response']]]\n",
    "    y_train = train.loc[train_idx, 'Response']\n",
    "    X_valid = train.loc[valid_idx, X_train.columns]\n",
    "    y_valid = train.loc[valid_idx, 'Response']\n",
    "\n",
    "    X_train_pool = Pool(X_train, y_train, cat_features=X_train.columns.values)\n",
    "    X_valid_pool = Pool(X_valid, y_valid, cat_features=X_valid.columns.values)\n",
    "\n",
    "    model = CatBoostClassifier(\n",
    "        loss_function=loss_function,                 # 기존: Logloss\n",
    "        eval_metric=eval_metric,                     # 기존: AUC\n",
    "        learning_rate=learning_rate,                 # 기존: 0.05\n",
    "        iterations=iterations,                       # 기존: 5000\n",
    "        depth=depth,                                 # 기존: 9\n",
    "        random_strength=random_strength,             # 기존: 0\n",
    "        l2_leaf_reg=l2_leaf_reg,                     # 기존: 0.5\n",
    "        task_type=task_type,                         # 기존: GPU\n",
    "        random_seed=random_seed,                     # 기존: 42\n",
    "        verbose=verbose,                             # 기존: False\n",
    "        bagging_temperature=bagging_temperature      # 기존: 없음\n",
    "    )\n",
    "\n",
    "    model.fit(X=X_train_pool, eval_set=X_valid_pool, verbose=1000, early_stopping_rounds=early_stopping_rounds)\n",
    "\n",
    "    # Perform Prediction\n",
    "    X_test = test[X_train.columns]\n",
    "    X_test_pool = Pool(X_test, cat_features=X_test.columns.values)\n",
    "    pred_valid = model.predict_proba(X_valid_pool)[:, 1]\n",
    "    preds.append(model.predict_proba(X_test_pool)[:, 1])\n",
    "\n",
    "    # Output Accuracy\n",
    "    auc = roc_auc_score(y_valid, pred_valid)\n",
    "    print(f'Fold {fold+1} AUC: {auc:.5f}\\n')"
   ]
  },
  {
   "cell_type": "code",
   "execution_count": 10,
   "id": "29190113",
   "metadata": {
    "execution": {
     "iopub.execute_input": "2024-07-30T18:59:46.635053Z",
     "iopub.status.busy": "2024-07-30T18:59:46.634748Z",
     "iopub.status.idle": "2024-07-30T18:59:46.642947Z",
     "shell.execute_reply": "2024-07-30T18:59:46.642052Z"
    },
    "papermill": {
     "duration": 0.017625,
     "end_time": "2024-07-30T18:59:46.644807",
     "exception": false,
     "start_time": "2024-07-30T18:59:46.627182",
     "status": "completed"
    },
    "tags": []
   },
   "outputs": [
    {
     "data": {
      "text/plain": [
       "'\\n# Train Model (Normalize Version)\\npreds = []\\n\\nskf = StratifiedKFold(n_splits=n_splits, shuffle=True, random_state=42)\\n\\nprint(\"Start Training...\")\\n\\nfor fold, (train_idx, valid_idx) in enumerate(skf.split(train, train[\\'Response\\'])):\\n    X_train = train.loc[train_idx, [c for c in train.columns if c not in [\\'id\\', \\'Response\\']]]\\n    y_train = train.loc[train_idx, \\'Response\\']\\n    X_valid = train.loc[valid_idx, X_train.columns]\\n    y_valid = train.loc[valid_idx, \\'Response\\']\\n\\n    X_train_pool = Pool(X_train, y_train, cat_features=categorical_features)\\n    X_valid_pool = Pool(X_valid, y_valid, cat_features=categorical_features)\\n\\n    model = CatBoostClassifier(\\n        loss_function=loss_function,                 # 기존: Logloss\\n        eval_metric=eval_metric,                     # 기존: AUC\\n        learning_rate=learning_rate,                 # 기존: 0.05\\n        iterations=iterations,                       # 기존: 5000\\n        depth=depth,                                 # 기존: 9\\n        random_strength=random_strength,             # 기존: 0\\n        l2_leaf_reg=l2_leaf_reg,                     # 기존: 0.5\\n        task_type=task_type,                         # 기존: GPU\\n        random_seed=random_seed,                     # 기존: 42\\n        verbose=verbose,                             # 기존: False\\n        bagging_temperature=bagging_temperature      # 기존: 없음\\n    )\\n\\n    model.fit(X=X_train_pool, eval_set=X_valid_pool, verbose=1000, early_stopping_rounds=early_stopping_rounds)\\n\\n    # Perform prediction\\n    X_test = test[X_train.columns]\\n    X_test_pool = Pool(X_test, cat_features=categorical_features)\\n    pred_valid = model.predict_proba(X_valid_pool)[:, 1]\\n    preds.append(model.predict_proba(X_test_pool)[:, 1])\\n\\n    # Output Accuracy\\n    auc = roc_auc_score(y_valid, pred_valid)\\n    print(f\\'Fold {fold+1} AUC: {auc:.5f}\\n\\')\\n'"
      ]
     },
     "execution_count": 10,
     "metadata": {},
     "output_type": "execute_result"
    }
   ],
   "source": [
    "'''\n",
    "# Train Model (Normalize Version)\n",
    "preds = []\n",
    "\n",
    "skf = StratifiedKFold(n_splits=n_splits, shuffle=True, random_state=42)\n",
    "\n",
    "print(\"Start Training...\")\n",
    "\n",
    "for fold, (train_idx, valid_idx) in enumerate(skf.split(train, train['Response'])):\n",
    "    X_train = train.loc[train_idx, [c for c in train.columns if c not in ['id', 'Response']]]\n",
    "    y_train = train.loc[train_idx, 'Response']\n",
    "    X_valid = train.loc[valid_idx, X_train.columns]\n",
    "    y_valid = train.loc[valid_idx, 'Response']\n",
    "\n",
    "    X_train_pool = Pool(X_train, y_train, cat_features=categorical_features)\n",
    "    X_valid_pool = Pool(X_valid, y_valid, cat_features=categorical_features)\n",
    "\n",
    "    model = CatBoostClassifier(\n",
    "        loss_function=loss_function,                 # 기존: Logloss\n",
    "        eval_metric=eval_metric,                     # 기존: AUC\n",
    "        learning_rate=learning_rate,                 # 기존: 0.05\n",
    "        iterations=iterations,                       # 기존: 5000\n",
    "        depth=depth,                                 # 기존: 9\n",
    "        random_strength=random_strength,             # 기존: 0\n",
    "        l2_leaf_reg=l2_leaf_reg,                     # 기존: 0.5\n",
    "        task_type=task_type,                         # 기존: GPU\n",
    "        random_seed=random_seed,                     # 기존: 42\n",
    "        verbose=verbose,                             # 기존: False\n",
    "        bagging_temperature=bagging_temperature      # 기존: 없음\n",
    "    )\n",
    "\n",
    "    model.fit(X=X_train_pool, eval_set=X_valid_pool, verbose=1000, early_stopping_rounds=early_stopping_rounds)\n",
    "\n",
    "    # Perform prediction\n",
    "    X_test = test[X_train.columns]\n",
    "    X_test_pool = Pool(X_test, cat_features=categorical_features)\n",
    "    pred_valid = model.predict_proba(X_valid_pool)[:, 1]\n",
    "    preds.append(model.predict_proba(X_test_pool)[:, 1])\n",
    "\n",
    "    # Output Accuracy\n",
    "    auc = roc_auc_score(y_valid, pred_valid)\n",
    "    print(f'Fold {fold+1} AUC: {auc:.5f}\\n')\n",
    "'''"
   ]
  },
  {
   "cell_type": "code",
   "execution_count": 11,
   "id": "0d984547",
   "metadata": {
    "execution": {
     "iopub.execute_input": "2024-07-30T18:59:46.659065Z",
     "iopub.status.busy": "2024-07-30T18:59:46.658792Z",
     "iopub.status.idle": "2024-07-30T19:00:09.216771Z",
     "shell.execute_reply": "2024-07-30T19:00:09.215855Z"
    },
    "papermill": {
     "duration": 22.567751,
     "end_time": "2024-07-30T19:00:09.218988",
     "exception": false,
     "start_time": "2024-07-30T18:59:46.651237",
     "status": "completed"
    },
    "tags": []
   },
   "outputs": [
    {
     "data": {
      "text/html": [
       "<div>\n",
       "<style scoped>\n",
       "    .dataframe tbody tr th:only-of-type {\n",
       "        vertical-align: middle;\n",
       "    }\n",
       "\n",
       "    .dataframe tbody tr th {\n",
       "        vertical-align: top;\n",
       "    }\n",
       "\n",
       "    .dataframe thead th {\n",
       "        text-align: right;\n",
       "    }\n",
       "</style>\n",
       "<table border=\"1\" class=\"dataframe\">\n",
       "  <thead>\n",
       "    <tr style=\"text-align: right;\">\n",
       "      <th></th>\n",
       "      <th>id</th>\n",
       "      <th>Response</th>\n",
       "    </tr>\n",
       "  </thead>\n",
       "  <tbody>\n",
       "    <tr>\n",
       "      <th>0</th>\n",
       "      <td>11504798</td>\n",
       "      <td>0.015542</td>\n",
       "    </tr>\n",
       "    <tr>\n",
       "      <th>1</th>\n",
       "      <td>11504799</td>\n",
       "      <td>0.103709</td>\n",
       "    </tr>\n",
       "    <tr>\n",
       "      <th>2</th>\n",
       "      <td>11504800</td>\n",
       "      <td>0.020480</td>\n",
       "    </tr>\n",
       "    <tr>\n",
       "      <th>3</th>\n",
       "      <td>11504801</td>\n",
       "      <td>0.000348</td>\n",
       "    </tr>\n",
       "    <tr>\n",
       "      <th>4</th>\n",
       "      <td>11504802</td>\n",
       "      <td>0.302103</td>\n",
       "    </tr>\n",
       "    <tr>\n",
       "      <th>...</th>\n",
       "      <td>...</td>\n",
       "      <td>...</td>\n",
       "    </tr>\n",
       "    <tr>\n",
       "      <th>7669861</th>\n",
       "      <td>19174659</td>\n",
       "      <td>0.048475</td>\n",
       "    </tr>\n",
       "    <tr>\n",
       "      <th>7669862</th>\n",
       "      <td>19174660</td>\n",
       "      <td>0.000598</td>\n",
       "    </tr>\n",
       "    <tr>\n",
       "      <th>7669863</th>\n",
       "      <td>19174661</td>\n",
       "      <td>0.000677</td>\n",
       "    </tr>\n",
       "    <tr>\n",
       "      <th>7669864</th>\n",
       "      <td>19174662</td>\n",
       "      <td>0.096565</td>\n",
       "    </tr>\n",
       "    <tr>\n",
       "      <th>7669865</th>\n",
       "      <td>19174663</td>\n",
       "      <td>0.001469</td>\n",
       "    </tr>\n",
       "  </tbody>\n",
       "</table>\n",
       "<p>7669866 rows × 2 columns</p>\n",
       "</div>"
      ],
      "text/plain": [
       "               id  Response\n",
       "0        11504798  0.015542\n",
       "1        11504799  0.103709\n",
       "2        11504800  0.020480\n",
       "3        11504801  0.000348\n",
       "4        11504802  0.302103\n",
       "...           ...       ...\n",
       "7669861  19174659  0.048475\n",
       "7669862  19174660  0.000598\n",
       "7669863  19174661  0.000677\n",
       "7669864  19174662  0.096565\n",
       "7669865  19174663  0.001469\n",
       "\n",
       "[7669866 rows x 2 columns]"
      ]
     },
     "execution_count": 11,
     "metadata": {},
     "output_type": "execute_result"
    }
   ],
   "source": [
    "# Create Submission\n",
    "submission = test[['id']]\n",
    "submission['Response'] = np.mean(preds, axis=0)\n",
    "\n",
    "submission.to_csv('submission.csv', index=False)\n",
    "submission"
   ]
  }
 ],
 "metadata": {
  "kaggle": {
   "accelerator": "nvidiaTeslaT4",
   "dataSources": [
    {
     "databundleVersionId": 8930475,
     "sourceId": 73291,
     "sourceType": "competition"
    }
   ],
   "dockerImageVersionId": 30732,
   "isGpuEnabled": true,
   "isInternetEnabled": true,
   "language": "python",
   "sourceType": "notebook"
  },
  "kernelspec": {
   "display_name": "Python 3",
   "language": "python",
   "name": "python3"
  },
  "language_info": {
   "codemirror_mode": {
    "name": "ipython",
    "version": 3
   },
   "file_extension": ".py",
   "mimetype": "text/x-python",
   "name": "python",
   "nbconvert_exporter": "python",
   "pygments_lexer": "ipython3",
   "version": "3.10.13"
  },
  "papermill": {
   "default_parameters": {},
   "duration": 7904.521179,
   "end_time": "2024-07-30T19:00:12.054671",
   "environment_variables": {},
   "exception": null,
   "input_path": "__notebook__.ipynb",
   "output_path": "__notebook__.ipynb",
   "parameters": {},
   "start_time": "2024-07-30T16:48:27.533492",
   "version": "2.5.0"
  }
 },
 "nbformat": 4,
 "nbformat_minor": 5
}
